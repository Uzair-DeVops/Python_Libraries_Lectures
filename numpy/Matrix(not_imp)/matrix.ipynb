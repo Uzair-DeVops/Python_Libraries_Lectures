{
 "cells": [
  {
   "cell_type": "markdown",
   "metadata": {},
   "source": [
    "<h1>Matrix</h1>"
   ]
  },
  {
   "cell_type": "code",
   "execution_count": 1,
   "metadata": {},
   "outputs": [],
   "source": [
    "# # matrix\n",
    "\n",
    "import numpy as np\n",
    "\n",
    "# A = np.array([[1, 2, 3], [4, 5, 6]])\n",
    "# B = np.array([[7, 8], [9, 10], [11, 12]])\n",
    "\n",
    "# # Addition\n",
    "# print(np.add(A, B))\n",
    "\n",
    "# # Subtraction\n",
    "# print(np.subtract(A, B))\n",
    "\n",
    "# # Multiplication\n",
    "# print(np.multiply(A, B))\n",
    "\n",
    "# # Transpose\n",
    "# print(np.transpose(A))\n",
    "\n",
    "# # Determinant\n",
    "# print(np.linalg.det(A))\n",
    "\n",
    "# # Inverse\n",
    "\n",
    "# try:\n",
    "#     print(np.linalg.inv(A))\n",
    "# except np.linalg.LinAlgError:\n",
    "#     print(\"The matrix is not invertible\")\n",
    "#     exit()\n",
    "\n",
    "# # Rank\n",
    "\n",
    "# print(np.linalg.matrix_rank(A))\n",
    "\n",
    "# # Trace\n",
    "\n",
    "# print(np.trace(A))\n",
    "\n",
    "# # Eigenvalues and eigenvectors\n",
    "\n",
    "# eigenvalues, eigenvectors = np.linalg.eig(A)\n",
    "# print(\"Eigenvalues:\", eigenvalues)\n",
    "# print(\"Eigenvectors:\", eigenvectors)\n",
    "\n",
    "# # Singular Value Decomposition\n",
    "\n",
    "# U, S, V = np.linalg.svd(A)\n",
    "# print(\"U:\", U)\n",
    "# print(\"S:\", S)\n",
    "# print(\"V:\", V)\n",
    "\n",
    "# # Diagonalization\n",
    "\n",
    "# D = np.diag(S)\n",
    "# print(\"Diagonalized matrix:\", U @ D @ V)\n",
    "\n",
    "# # QR decomposition\n",
    "\n",
    "# Q, R = np.linalg.qr(A)\n",
    "# print(\"Q:\", Q)\n",
    "# print(\"R:\", R)\n",
    "\n",
    "# # Singular value decomposition\n",
    "\n",
    "# U, S, V = np.linalg.svd(A)\n",
    "# print(\"U:\", U)\n",
    "# print(\"S:\", S)\n",
    "# print(\"V:\", V)\n",
    "\n",
    "\n",
    "\n"
   ]
  },
  {
   "cell_type": "code",
   "execution_count": 2,
   "metadata": {},
   "outputs": [
    {
     "name": "stdout",
     "output_type": "stream",
     "text": [
      "[[1 2]\n",
      " [4 5]]\n",
      "[[ 7  8]\n",
      " [ 9 10]]\n",
      "\n",
      "[[ 7 16]\n",
      " [36 50]]\n",
      "\n",
      "[[25 28]\n",
      " [73 82]]\n",
      "\n",
      "[[25 28]\n",
      " [73 82]]\n"
     ]
    }
   ],
   "source": [
    "A = np.matrix([[1, 2], [4, 5]])\n",
    "B = np.matrix([[7, 8], [9, 10]])\n",
    "print(A)\n",
    "print(B)\n",
    "print()\n",
    "# multiplication\n",
    "print(np.multiply(A, B))\n",
    "print()\n",
    "print(A*B)\n",
    "print()\n",
    "print(np.dot(A, B))"
   ]
  },
  {
   "cell_type": "code",
   "execution_count": 3,
   "metadata": {},
   "outputs": [
    {
     "name": "stdout",
     "output_type": "stream",
     "text": [
      "[[ 7 16]\n",
      " [36 50]]\n"
     ]
    }
   ],
   "source": [
    "A = np.array([[1, 2], [4, 5]])\n",
    "B = np.array([[7, 8], [9, 10]])\n",
    "\n",
    "# Addition\n",
    "\n",
    "print(np.multiply(A, B))"
   ]
  },
  {
   "cell_type": "code",
   "execution_count": 4,
   "metadata": {},
   "outputs": [
    {
     "name": "stdout",
     "output_type": "stream",
     "text": [
      "[[1 2 3]\n",
      " [4 5 6]]\n",
      "[[ 7  8  9]\n",
      " [10 11 12]]\n",
      "\n",
      "[[ 8 10 12]\n",
      " [14 16 18]]\n",
      "\n",
      "[[ 8 10 12]\n",
      " [14 16 18]]\n",
      "\n",
      "[[-6 -6 -6]\n",
      " [-6 -6 -6]]\n",
      "\n",
      "[[-6 -6 -6]\n",
      " [-6 -6 -6]]\n",
      "\n",
      "[[ 7 16 27]\n",
      " [40 55 72]]\n",
      "\n"
     ]
    }
   ],
   "source": [
    "arr1 = np.matrix([[1, 2, 3], [4, 5,6]])\n",
    "arr2 = np.matrix([[7, 8, 9], [10, 11,12]])\n",
    "print(arr1)\n",
    "print(arr2)\n",
    "\n",
    "print()\n",
    "\n",
    "# Addition\n",
    "print(arr1 + arr2)\n",
    "print()\n",
    "# Addition\n",
    "print(np.add(arr1, arr2))\n",
    "print()\n",
    "\n",
    "# Subtraction\n",
    "\n",
    "print(arr1 - arr2)\n",
    "print()\n",
    "\n",
    "# Subtraction\n",
    "print(np.subtract(arr1, arr2))\n",
    "print()\n",
    "\n",
    "# multiplication\n",
    "# print(arr1 * arr2)\n",
    "# print() # it will give the error bcz matrix cannot be multiply using * operator\n",
    "\n",
    "# Multiplication\n",
    "print(np.multiply(arr1, arr2))\n",
    "print()\n"
   ]
  },
  {
   "cell_type": "code",
   "execution_count": 5,
   "metadata": {},
   "outputs": [
    {
     "name": "stdout",
     "output_type": "stream",
     "text": [
      "[[1 2 3]\n",
      " [4 5 6]]\n",
      "[[ 7  8  9]\n",
      " [10 11 12]]\n",
      "\n",
      "[[ 8 10 12]\n",
      " [14 16 18]]\n",
      "\n",
      "[[ 8 10 12]\n",
      " [14 16 18]]\n",
      "\n",
      "[[-6 -6 -6]\n",
      " [-6 -6 -6]]\n",
      "\n",
      "[[-6 -6 -6]\n",
      " [-6 -6 -6]]\n",
      "\n",
      "[[ 7 16 27]\n",
      " [40 55 72]]\n",
      "\n",
      "[[ 7 16 27]\n",
      " [40 55 72]]\n",
      "\n"
     ]
    }
   ],
   "source": [
    "arr1 = np.array([[1, 2, 3], [4, 5,6]])\n",
    "arr2 = np.array([[7, 8, 9], [10, 11,12]])\n",
    "print(arr1)\n",
    "print(arr2)\n",
    "\n",
    "print()\n",
    "\n",
    "# addition\n",
    "print(arr1 + arr2)\n",
    "print()\n",
    "# Addition\n",
    "print(np.add(arr1, arr2))\n",
    "print()\n",
    "# Subtraction\n",
    "\n",
    "print(arr1 - arr2)\n",
    "print()\n",
    "\n",
    "# Subtraction\n",
    "print(arr1 - arr2)\n",
    "print()\n",
    "# multiplication\n",
    "print(arr1 * arr2)\n",
    "print() # but here is did not give error bcz array can be multiplied using * operator\n",
    "\n",
    "# Multiplication\n",
    "print(np.multiply(arr1, arr2))\n",
    "print()\n",
    "\n"
   ]
  },
  {
   "cell_type": "code",
   "execution_count": 6,
   "metadata": {},
   "outputs": [
    {
     "name": "stdout",
     "output_type": "stream",
     "text": [
      "[[1 2 3]\n",
      " [4 5 6]]\n",
      "[[ 7  8  9]\n",
      " [10 11 12]\n",
      " [13 14 15]]\n",
      "\n",
      "[[1 2 3]\n",
      " [4 5 6]]\n",
      "[[ 7  8  9]\n",
      " [10 11 12]\n",
      " [13 14 15]]\n"
     ]
    }
   ],
   "source": [
    "arr1 = np.matrix([[1, 2, 3], [4, 5,6]])\n",
    "arr2 = np.matrix([[7, 8, 9], [10, 11,12], [13, 14, 15]])\n",
    "arr3 = np.array([[1, 2, 3], [4, 5,6]])\n",
    "arr4 = np.array([[7, 8, 9], [10, 11,12], [13, 14, 15]])\n",
    "\n",
    "print(arr1)\n",
    "print(arr2)\n",
    "print()\n",
    "print(arr3)\n",
    "print(arr4)\n",
    "\n",
    "\n",
    "# multiplication\n",
    "# print(np.dot(arr1, arr2))\n"
   ]
  },
  {
   "cell_type": "code",
   "execution_count": 10,
   "metadata": {},
   "outputs": [
    {
     "name": "stdout",
     "output_type": "stream",
     "text": [
      "-2.9999999999999996\n",
      "The matrix is not invertible\n",
      "2\n",
      "6\n",
      "[-0.37228132  5.37228132]\n",
      "EigResult(eigenvalues=array([-0.37228132,  5.37228132]), eigenvectors=array([[-0.82456484, -0.41597356],\n",
      "       [ 0.56576746, -0.90937671]]))\n"
     ]
    }
   ],
   "source": [
    "# other matrix functions\n",
    "# determinate\n",
    "arr1 = np.array([[1, 2, 3], [4, 5,6]])\n",
    "arr2 = np.array([[7, 8, 9], [10, 11,12]])\n",
    "\n",
    "\n",
    "arr3 = np.array([[1, 2], [4, 5]])\n",
    "print(np.linalg.det(arr3))\n",
    "\n",
    "# inverse\n",
    "\n",
    "try:\n",
    "    print(np.linalg.inv(arr1))\n",
    "except np.linalg.LinAlgError:\n",
    "    print(\"The matrix is not invertible\")\n",
    "\n",
    "# # rank\n",
    "\n",
    "print(np.linalg.matrix_rank(arr1))\n",
    "\n",
    "# # trace\n",
    "\n",
    "print(np.trace(arr1))\n",
    "\n",
    "# # eigenvalues and eigenvectors\n",
    "# eigenvalues\n",
    "arr = np.array([[1, 2], [3, 4]])\n",
    "print(np.linalg.eigvals(arr))\n",
    "# eigenvectors\n",
    "print(np.linalg.eig(arr))\n",
    "\n"
   ]
  },
  {
   "cell_type": "code",
   "execution_count": null,
   "metadata": {},
   "outputs": [],
   "source": []
  }
 ],
 "metadata": {
  "kernelspec": {
   "display_name": "Python 3",
   "language": "python",
   "name": "python3"
  },
  "language_info": {
   "codemirror_mode": {
    "name": "ipython",
    "version": 3
   },
   "file_extension": ".py",
   "mimetype": "text/x-python",
   "name": "python",
   "nbconvert_exporter": "python",
   "pygments_lexer": "ipython3",
   "version": "3.12.5"
  }
 },
 "nbformat": 4,
 "nbformat_minor": 2
}
