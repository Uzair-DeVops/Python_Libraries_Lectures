{
 "cells": [
  {
   "cell_type": "code",
   "execution_count": 1,
   "metadata": {},
   "outputs": [],
   "source": [
    "import numpy as np\n",
    "import time\n",
    "\n",
    "\n"
   ]
  },
  {
   "cell_type": "code",
   "execution_count": 22,
   "metadata": {},
   "outputs": [
    {
     "name": "stdout",
     "output_type": "stream",
     "text": [
      "Time taken for addition using for loop: 0.010999202728271484\n",
      "Time taken for addition using vectorized operation: 0.0019996166229248047\n"
     ]
    }
   ],
   "source": [
    "arr1 =  np.random.rand(10000)\n",
    "arr2 = np.random.rand(10000)\n",
    "\n",
    "start_time = time.time()\n",
    "for x in range(len(arr1)):\n",
    "    arr1[x] += arr2[x]\n",
    "duration = time.time() - start_time\n",
    "\n",
    "print(\"Time taken for addition using for loop:\", duration)\n",
    "\n",
    "start_time = time.time()\n",
    "arr1 += arr2\n",
    "\n",
    "duration = time.time() - start_time\n",
    "\n",
    "print(\"Time taken for addition using vectorized operation:\", duration)"
   ]
  },
  {
   "cell_type": "code",
   "execution_count": null,
   "metadata": {},
   "outputs": [],
   "source": []
  },
  {
   "cell_type": "code",
   "execution_count": null,
   "metadata": {},
   "outputs": [],
   "source": []
  }
 ],
 "metadata": {
  "kernelspec": {
   "display_name": "Python 3",
   "language": "python",
   "name": "python3"
  },
  "language_info": {
   "codemirror_mode": {
    "name": "ipython",
    "version": 3
   },
   "file_extension": ".py",
   "mimetype": "text/x-python",
   "name": "python",
   "nbconvert_exporter": "python",
   "pygments_lexer": "ipython3",
   "version": "3.12.5"
  }
 },
 "nbformat": 4,
 "nbformat_minor": 2
}
