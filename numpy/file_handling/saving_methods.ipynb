{
 "cells": [
  {
   "cell_type": "code",
   "execution_count": 2,
   "metadata": {},
   "outputs": [],
   "source": [
    "import numpy as np"
   ]
  },
  {
   "cell_type": "markdown",
   "metadata": {},
   "source": [
    "<h1 align=\"center\">numpy.savetxt() </h1>\n",
    "\n",
    "This a function used to save a NumPy array to a text file. It allows you to specify the format of the data and add delimiters, headers, and footers. This function is useful when you want to save data in a readable text format (like .txt or .csv)."
   ]
  },
  {
   "cell_type": "markdown",
   "metadata": {},
   "source": [
    "<h2>Basic Syntax</h2>\n",
    "\n",
    "numpy.savetxt(fname, X, delimiter=' ', fmt='%s', header='', footer='', comments='# ')\n",
    "\n",
    "\n",
    "fname: The name of the file to save data in. You can use a .txt or .csv file extension.\n",
    "\n",
    "X: The array you want to save.\n",
    "\n",
    "delimiter: The string used to separate values (e.g., , for CSV).\n",
    "\n",
    "fmt: Format string for each element in the array. Common options:\n",
    "'%d': Integer format\n",
    "'%.2f': Float with 2 decimal places\n",
    "'%s': String\n",
    "\n",
    "header: String that will be written at the beginning of the file as a header.\n",
    "\n",
    "footer: String that will be written at the end of the file as a footer.\n",
    "\n",
    "comments: String that marks the start of a comment in the header or footer. By default, this is #."
   ]
  },
  {
   "cell_type": "code",
   "execution_count": null,
   "metadata": {},
   "outputs": [],
   "source": [
    "# Simple data\n",
    "\n",
    "data =  np.array(([1,2,3],[4,5,6],[7,8,9]))\n",
    "\n",
    "np.savetxt('savetxt.txt', data, delimiter=',' ,fmt=\"%d\")\n"
   ]
  },
  {
   "cell_type": "code",
   "execution_count": null,
   "metadata": {},
   "outputs": [],
   "source": [
    "# with header and footer\n",
    "np.savetxt(\n",
    "    'data_with_header_footer.txt', \n",
    "    data, \n",
    "    delimiter=',', \n",
    "    fmt='%.2f', \n",
    "    header='Sample Data with Header', \n",
    "    footer='End of Data'\n",
    ")\n"
   ]
  },
  {
   "cell_type": "code",
   "execution_count": null,
   "metadata": {},
   "outputs": [
    {
     "name": "stdout",
     "output_type": "stream",
     "text": [
      "[['1' 'Alice' '90.5']\n",
      " ['2' 'Bob' '85.0']\n",
      " ['3' 'Charlie' '88.0']]\n"
     ]
    }
   ],
   "source": [
    "# mixed data\n",
    "data_mixed = np.array([(1, 'Alice', 90.5), (2, 'Bob', 85.0), (3, 'Charlie', 88.0)])\n",
    "print(data_mixed)\n",
    "np.savetxt('data_mixed.txt', data_mixed, fmt='%s', delimiter=',')\n"
   ]
  },
  {
   "cell_type": "markdown",
   "metadata": {},
   "source": [
    "<h1 align=\"center\">numpy.save() </h1>\n",
    "\n",
    "In NumPy, the np.save() function is used to save arrays to a binary .npy file, which preserves the array’s data type and shape. This format is more efficient than saving data to text files, as it’s faster to load and saves space.\n",
    "(ya  method data ko .npy or .npz files ma save krna ka leya use hota ha binary fromat ma ok)\n",
    "\n",
    "\n",
    "<h2>Basic Syntax</h2>\n",
    "\n",
    "numpy.save(file, arr, allow_pickle=True)\n",
    "\n",
    "file: The file name or file path to save the array. By convention, .npy is used as the extension (e.g., 'data.npy').\n",
    "\n",
    "arr: The array to be saved.\n",
    "\n",
    "allow_pickle: If True, allows saving objects like lists and dictionaries along with the array. Default is True.\n"
   ]
  },
  {
   "cell_type": "code",
   "execution_count": 14,
   "metadata": {},
   "outputs": [],
   "source": [
    "# Create a sample array\n",
    "data = np.array([1, 2, 3, 4, 5])\n",
    "\n",
    "# Save the array to a file named 'data.npy'\n",
    "np.save('data.npy', data)\n"
   ]
  },
  {
   "cell_type": "code",
   "execution_count": 10,
   "metadata": {},
   "outputs": [
    {
     "name": "stdout",
     "output_type": "stream",
     "text": [
      "[1 2 3 4 5]\n"
     ]
    }
   ],
   "source": [
    "# Load the array from the file\n",
    "loaded_data = np.load('data.npy')\n",
    "print(loaded_data)\n"
   ]
  },
  {
   "cell_type": "code",
   "execution_count": 4,
   "metadata": {},
   "outputs": [],
   "source": [
    "# Create a 2D array\n",
    "data_2d = np.array([[1, 2, 3], [4, 5, 6], [7, 8, 9]])\n",
    "\n",
    "# Save the 2D array\n",
    "np.save('data_2d.npy', data_2d)\n"
   ]
  },
  {
   "cell_type": "code",
   "execution_count": null,
   "metadata": {},
   "outputs": [],
   "source": [
    "# Create multiple arrays\n",
    "data1 = np.array([1, 2, 3])\n",
    "data2 = np.array([[4, 5, 6], [7, 8, 9]])\n",
    "\n",
    "# Save multiple arrays in a single .npz file\n",
    "np.savez('multiple_data.npz', array1=data1, array2=data2)\n"
   ]
  },
  {
   "cell_type": "code",
   "execution_count": 9,
   "metadata": {},
   "outputs": [
    {
     "name": "stdout",
     "output_type": "stream",
     "text": [
      "[1 2 3]\n",
      "[[4 5 6]\n",
      " [7 8 9]]\n"
     ]
    }
   ],
   "source": [
    "loaded = np.load('multiple_data.npz')\n",
    "print(loaded['array1'])\n",
    "print(loaded['array2'])\n"
   ]
  },
  {
   "cell_type": "code",
   "execution_count": null,
   "metadata": {},
   "outputs": [],
   "source": [
    "data_with_object = np.array([{\"name\": \"Alice\", \"score\": 90}, {\"name\": \"Bob\", \"score\": 85}])\n",
    "\n",
    "# Save with pickle enabled\n",
    "np.save('data_with_object.npy', data_with_object , allow_pickle=True)\n"
   ]
  },
  {
   "cell_type": "code",
   "execution_count": 15,
   "metadata": {},
   "outputs": [
    {
     "name": "stdout",
     "output_type": "stream",
     "text": [
      "[{'name': 'Alice', 'score': 90} {'name': 'Bob', 'score': 85}]\n"
     ]
    }
   ],
   "source": [
    "loaded_data = np.load('data_with_object.npy', allow_pickle=True)\n",
    "print(loaded_data)\n"
   ]
  },
  {
   "cell_type": "code",
   "execution_count": null,
   "metadata": {},
   "outputs": [],
   "source": []
  }
 ],
 "metadata": {
  "kernelspec": {
   "display_name": "Python 3",
   "language": "python",
   "name": "python3"
  },
  "language_info": {
   "codemirror_mode": {
    "name": "ipython",
    "version": 3
   },
   "file_extension": ".py",
   "mimetype": "text/x-python",
   "name": "python",
   "nbconvert_exporter": "python",
   "pygments_lexer": "ipython3",
   "version": "3.12.5"
  }
 },
 "nbformat": 4,
 "nbformat_minor": 2
}
