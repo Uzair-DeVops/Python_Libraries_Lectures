{
 "cells": [
  {
   "cell_type": "markdown",
   "metadata": {},
   "source": [
    "<h1 align=\"center\">numpy.isnan() </h1>\n"
   ]
  },
  {
   "cell_type": "code",
   "execution_count": 1,
   "metadata": {},
   "outputs": [],
   "source": [
    "import numpy as np"
   ]
  },
  {
   "cell_type": "markdown",
   "metadata": {},
   "source": [
    "The np.isnan() function is used to identify NaN (Not a Number) values in an array. It returns a boolean array of the same shape as the input, where each element indicates whether the corresponding element in the input is NaN\n",
    "(ya func check krta ha ka hmary array ma koi nan value ha agr ho ge to wha pa ya true return kr dta ha \n",
    ")"
   ]
  },
  {
   "cell_type": "code",
   "execution_count": 2,
   "metadata": {},
   "outputs": [
    {
     "name": "stdout",
     "output_type": "stream",
     "text": [
      "[False False  True False  True False]\n"
     ]
    }
   ],
   "source": [
    "\n",
    "# Create an array with NaN values\n",
    "data = np.array([1, 2, np.nan, 4, np.nan, 6])\n",
    "\n",
    "# Check for NaN values\n",
    "nan_mask = np.isnan(data)\n",
    "\n",
    "print(nan_mask)  # Output: [False False  True False  True False]\n"
   ]
  },
  {
   "cell_type": "code",
   "execution_count": 3,
   "metadata": {},
   "outputs": [
    {
     "name": "stdout",
     "output_type": "stream",
     "text": [
      "[1. 2. 4. 6.]\n"
     ]
    }
   ],
   "source": [
    "\n",
    "# Original array\n",
    "data = np.array([1, 2, np.nan, 4, np.nan, 6])\n",
    "\n",
    "# Filter out NaN values\n",
    "clean_data = data[~np.isnan(data)]  # Using the inverse mask to select non-NaN values\n",
    "\n",
    "print(clean_data)  # Output: [1. 2. 4. 6.]\n"
   ]
  },
  {
   "cell_type": "markdown",
   "metadata": {},
   "source": [
    "<h1 align=\"center\">nan_to_num() </h1>\n"
   ]
  },
  {
   "cell_type": "markdown",
   "metadata": {},
   "source": [
    "In NumPy, if you want to replace NaN (Not a Number) values with a specific number, you can use the np.nan_to_num() function. This function is useful for data cleaning and preprocessing, especially when you want to perform calculations on arrays without the interference of NaN values.\n",
    "(is sa hm jo nan value ha usko replace kr laita ha apni desired value sa)"
   ]
  },
  {
   "cell_type": "markdown",
   "metadata": {},
   "source": [
    "<h2>Syntax</h2>\n",
    "\n",
    "numpy.nan_to_num(x, copy=True, nan=0.0, posinf=None, neginf=None)\n",
    "\n",
    "x: Input array, which can be a NumPy array or any structure that can be converted to a NumPy array.\n",
    "\n",
    "copy: If True, a new array is created; if False, it attempts to modify the input array in place (if possible).\n",
    "\n",
    "nan: The value to replace NaN (default is 0.0).\n",
    "\n",
    "posinf: The value to replace positive infinity (default is None, meaning it will remain unchanged).\n",
    "\n",
    "neginf: The value to replace negative infinity (default is None, meaning it will remain unchanged)."
   ]
  },
  {
   "cell_type": "code",
   "execution_count": 4,
   "metadata": {},
   "outputs": [
    {
     "name": "stdout",
     "output_type": "stream",
     "text": [
      "[1. 2. 0. 4. 0. 6.]\n"
     ]
    }
   ],
   "source": [
    "\n",
    "# Create an array with NaN values\n",
    "data = np.array([1, 2, np.nan, 4, np.nan, 6])\n",
    "\n",
    "# Replace NaN values with 0\n",
    "cleaned_data = np.nan_to_num(data)\n",
    "\n",
    "print(cleaned_data)  # Output: [1. 2. 0. 4. 0. 6.]\n"
   ]
  },
  {
   "cell_type": "code",
   "execution_count": 5,
   "metadata": {},
   "outputs": [
    {
     "name": "stdout",
     "output_type": "stream",
     "text": [
      "[ 1.  2. -1.  4. -1.  6.]\n"
     ]
    }
   ],
   "source": [
    "\n",
    "# Create an array with NaN values\n",
    "data = np.array([1, 2, np.nan, 4, np.nan, 6])\n",
    "\n",
    "# Replace NaN values with -1\n",
    "cleaned_data = np.nan_to_num(data, nan=-1)\n",
    "\n",
    "print(cleaned_data)  # Output: [ 1.  2. -1.  4. -1.  6.]\n"
   ]
  },
  {
   "cell_type": "code",
   "execution_count": 6,
   "metadata": {},
   "outputs": [
    {
     "name": "stdout",
     "output_type": "stream",
     "text": [
      "[   1.    2.    0.  999. -999.    6.]\n"
     ]
    }
   ],
   "source": [
    "\n",
    "\n",
    "# Create an array with NaN and infinity values\n",
    "data = np.array([1, 2, np.nan, np.inf, -np.inf, 6])\n",
    "\n",
    "# Replace NaN with 0, positive infinity with 999, and negative infinity with -999\n",
    "cleaned_data = np.nan_to_num(data, nan=0, posinf=999, neginf=-999)\n",
    "\n",
    "print(cleaned_data)  # Output: [  1.   2.   0. 999. -999.   6.]\n"
   ]
  },
  {
   "cell_type": "markdown",
   "metadata": {},
   "source": []
  }
 ],
 "metadata": {
  "kernelspec": {
   "display_name": "Python 3",
   "language": "python",
   "name": "python3"
  },
  "language_info": {
   "codemirror_mode": {
    "name": "ipython",
    "version": 3
   },
   "file_extension": ".py",
   "mimetype": "text/x-python",
   "name": "python",
   "nbconvert_exporter": "python",
   "pygments_lexer": "ipython3",
   "version": "3.12.5"
  }
 },
 "nbformat": 4,
 "nbformat_minor": 2
}
