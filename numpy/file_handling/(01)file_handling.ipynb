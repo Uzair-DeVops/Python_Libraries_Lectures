{
 "cells": [
  {
   "cell_type": "markdown",
   "metadata": {},
   "source": [
    "<h1 align=\"center\">1. Loadtxt fuction</h1>\n",
    "<br><br>use to read file"
   ]
  },
  {
   "cell_type": "code",
   "execution_count": 2,
   "metadata": {},
   "outputs": [
    {
     "name": "stdout",
     "output_type": "stream",
     "text": [
      "[[1 4 7]\n",
      " [2 5 8]\n",
      " [3 6 9]]\n"
     ]
    }
   ],
   "source": [
    "import numpy as np\n",
    "\n",
    "# Load data from the text file\n",
    "data = np.loadtxt(fname='data.txt',delimiter=\" \", dtype=int ,usecols=(0,1,2) , skiprows=0 , unpack=True )\n",
    "\n",
    "print(data)\n"
   ]
  },
  {
   "cell_type": "markdown",
   "metadata": {},
   "source": [
    "<h2>fname = 'Your file name'</h2>\n",
    "\n",
    "In This we write the name of the file if we dont write this and directly write the file name it will also work properly(file ka name likhna ka leya use hota agr iska bagir direct b file ka name likh do to b work kr jay ga)\n",
    "\n",
    "<h2>dtype</h2>\n",
    "\n",
    "This is used to define in which format u want to read file data by default float is set to float but you can change but you should consider that the data you are reading can be converted into floats ot integer if not then it will give error , \n",
    "if you want to make the possibility of error to minimum so dont change it if you want to then use this <b>.astype(np.int64)</b> it will create less errors \n",
    "(dtype use hota ha ka apna fille ka data kis way may read krna ha agr by default ys float hota mtlb agr ap iski koi b value ni do ga to wo float he ho ga pr ap usko change \n",
    "b kr skta ha lkn bahter ya ha ka ap is ko float he rhna da  or isko<b>.astype(np.int64)</b> use kr ka datatype change kr lain data ke )\n",
    "\n",
    "<h2>usecols</h2>\n",
    "\n",
    "This is used to define which columns you want to read and to which column you want to convert the data, if you want all the columns then usecols=(0,1,2,3,4,5,6,7,8,9) but you can also read some special columns like if you want to read first and second columns then usecols=(0,2)  but remember if you want to read that column that doesn't exist it will cause a warning\n",
    "(agr ap ksi specific column ko he read krna chahta ho to ya use hota ha agr app is ma serf ak value do ga to yya wo wala column read kr la ga pr agr ap ap 2 values do ga to ya doo columns ko read kra ga or apko ak 2d array da ga )\n",
    "\n",
    "<h2>skiprows</h2>\n",
    "\n",
    "This is used to skip the number of rows you want to skip, if you want to skip the\n",
    "first row you will give the value 1 (means its value starts from 1 not 0)\n",
    "(rows ko skip krna ka leya use hota ha or iski counting 1 sa start ho g 0 sa nai)\n",
    "\n",
    "<h2>unpack</h2>\n",
    "This is used to unpack the data inform of transpose (ya data ko transpose ma change kr dta ha means ka rows ko columns ma or columns ko rows ma)\n",
    "\n",
    "<h2>delimeter</h2>\n",
    "This is used to define the delimeter of the file, by default it is comma (,) but\n",
    " if your file is in csv format then you can change it to <b>,</b> or <b>;</b> or <b>tab</b>\n",
    " (agr apki  file ma data commas sa separated  ha to ap delimeter ma comma likha ga agr space sa separated to space likha ga\n",
    "  darasl commas or space ko float ma convert ni kr skta is leya delimeter sa hm usko skip kr dta ha agr hmary file ma data commas sa separated ha to ap delimeter ma comma likha agr ap nahi likha to error ay ga jo ka ho ga we cant convert commas into floats)\n"
   ]
  },
  {
   "cell_type": "markdown",
   "metadata": {},
   "source": [
    "<h1 align=\"center\">2. Genfromtxt fuction</h1>\n",
    "<br><br>\n",
    "The numpy.genfromtxt() function is similar to numpy.loadtxt(), but it's more flexible and can handle missing values in text files, making it useful for working with imperfect data or files that contain text and numbers."
   ]
  },
  {
   "cell_type": "code",
   "execution_count": null,
   "metadata": {},
   "outputs": [
    {
     "name": "stdout",
     "output_type": "stream",
     "text": [
      "[[1. 2. 3.]\n",
      " [4. 0. 6.]\n",
      " [7. 8. 9.]]\n"
     ]
    }
   ],
   "source": [
    "data = np.genfromtxt('missing_value.txt', delimiter=',', filling_values=0  )\n",
    "print(data)"
   ]
  },
  {
   "cell_type": "markdown",
   "metadata": {},
   "source": [
    "<h2>Key Parameters</h2>\n",
    "<b>fname</b>: The name of the file to load. It can also be a file object.<br>\n",
    "<b>dtype:</b> Data type of the output array (default is float).<br>\n",
    "<b>delimiter</b>: Character that separates values in the file (e.g., comma , for CSV).<br>\n",
    "<b>skip_header:</b> Number of lines to skip at the beginning of the file (useful for headers).<br>\n",
    "<b>missing_values:</b> Defines which values are considered missing.<br>\n",
    "<b>filling_valbres:</b> Values to replace any missing data."
   ]
  },
  {
   "cell_type": "code",
   "execution_count": 11,
   "metadata": {},
   "outputs": [
    {
     "name": "stdout",
     "output_type": "stream",
     "text": [
      "[[ 1  2  3]\n",
      " [ 4  0  6]\n",
      " [ 7  0  9]\n",
      " [10 11  0]]\n"
     ]
    }
   ],
   "source": [
    "\n",
    "data = np.genfromtxt(\n",
    "    'missing_value2.txt', \n",
    "    delimiter=',', \n",
    "    missing_values=[\"NA\", \"?\", \"--\"], \n",
    "    filling_values=0,\n",
    "    skip_header=1\n",
    ").astype(np.int64)\n",
    "\n",
    "print(data)\n"
   ]
  },
  {
   "cell_type": "markdown",
   "metadata": {},
   "source": [
    "<h1 align=\"center\">3. Load fuction</h1>\n",
    "<br><br>\n",
    "<h2>is function ko  use krna ka leya phla apko savetxt or save methods ka use ka pta hona chahiya</h2>\n",
    "\n",
    "<a href=\"saving_methods.ipynb\">Link to save methods</a>\n",
    "\n",
    "The np.load() function in NumPy is designed for loading data from files saved in the .npy (binary format for a single array) or .npz (compressed format for multiple arrays) formats. It is particularly efficient for reading large amounts of data quickly, as it preserves the original data types and shapes. This is in contrast to text-based loading functions, which typically require parsing and re-formatting (ya wo wali files ko load krna ka leya use hota ha jinki extensions .npy ot .npz hoty ha ya zyda faster work krta ha or is jo second parameter ha allow_pickle=True wo tab use hota jab apna file ma data save krta howa b allow_pickle use keya ho or is ka beenfit ya hota ha ka ya python ka ksi b object ko handle kr laita ha behsak wo list ho tuple ho dic ho ya set ho)\n",
    "\n",
    "\n",
    "<h2>Syntax </h2>\n",
    "  <h3>: numpy.load(file, allow_pickle=False)</h3>\n",
    "\n",
    "1. file: The path to the .npy or .npz file you want to load.\n",
    "2. allow_pickle: Allows loading of objects saved with Python's pickle if set to True. For security reasons, it's best to avoid this option with untrusted files.\n"
   ]
  },
  {
   "cell_type": "code",
   "execution_count": 3,
   "metadata": {},
   "outputs": [
    {
     "name": "stdout",
     "output_type": "stream",
     "text": [
      "[1 2 3 4 5]\n"
     ]
    }
   ],
   "source": [
    "loaded_data = np.load('data.npy')\n",
    "print(loaded_data)\n"
   ]
  },
  {
   "cell_type": "code",
   "execution_count": 4,
   "metadata": {},
   "outputs": [
    {
     "name": "stdout",
     "output_type": "stream",
     "text": [
      "[1 2 3]\n",
      "[[4 5 6]\n",
      " [7 8 9]]\n"
     ]
    }
   ],
   "source": [
    "loaded = np.load('multiple_data.npz')\n",
    "print(loaded['array1'])\n",
    "print(loaded['array2'])"
   ]
  },
  {
   "cell_type": "code",
   "execution_count": 5,
   "metadata": {},
   "outputs": [
    {
     "name": "stdout",
     "output_type": "stream",
     "text": [
      "[{'name': 'Alice', 'score': 90} {'name': 'Bob', 'score': 85}]\n"
     ]
    }
   ],
   "source": [
    "loaded_data = np.load('data_with_object.npy', allow_pickle=True)\n",
    "print(loaded_data)\n"
   ]
  },
  {
   "cell_type": "markdown",
   "metadata": {},
   "source": [
    "<h1 align=\"center\">3. Difference between  These three loading functions</h1>\n"
   ]
  },
  {
   "cell_type": "markdown",
   "metadata": {},
   "source": [
    "<a href=\"difference_btw_loading_func.md\">Here is the link </a>"
   ]
  },
  {
   "cell_type": "code",
   "execution_count": null,
   "metadata": {},
   "outputs": [],
   "source": []
  }
 ],
 "metadata": {
  "kernelspec": {
   "display_name": "Python 3",
   "language": "python",
   "name": "python3"
  },
  "language_info": {
   "codemirror_mode": {
    "name": "ipython",
    "version": 3
   },
   "file_extension": ".py",
   "mimetype": "text/x-python",
   "name": "python",
   "nbconvert_exporter": "python",
   "pygments_lexer": "ipython3",
   "version": "3.12.5"
  }
 },
 "nbformat": 4,
 "nbformat_minor": 2
}
